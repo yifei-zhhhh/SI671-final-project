{
 "cells": [
  {
   "cell_type": "code",
   "execution_count": 247,
   "metadata": {},
   "outputs": [],
   "source": [
    "import pandas as pd\n",
    "import numpy as np\n",
    "from sklearn.model_selection import train_test_split\n",
    "import sklearn.metrics as metrics\n",
    "from sklearn import preprocessing\n",
    "\n",
    "import matplotlib.pyplot as plt\n",
    "%matplotlib inline"
   ]
  },
  {
   "cell_type": "code",
   "execution_count": 248,
   "metadata": {},
   "outputs": [],
   "source": [
    "df=pd.read_csv('Processed_data.csv')"
   ]
  },
  {
   "cell_type": "code",
   "execution_count": 249,
   "metadata": {},
   "outputs": [
    {
     "data": {
      "text/plain": [
       "Index(['Visa_Class', 'Employer_Name', 'SOC_Title', 'Job_Title',\n",
       "       'Full_Time_Position', 'Worksite', 'Prevailing_Wage', 'Unit_Of_Pay',\n",
       "       'Employer_Location', 'Employer_Country', 'Case_Status', 'Quarter',\n",
       "       'State', 'Transformed_SOC_Title'],\n",
       "      dtype='object')"
      ]
     },
     "execution_count": 249,
     "metadata": {},
     "output_type": "execute_result"
    }
   ],
   "source": [
    "df.columns"
   ]
  },
  {
   "cell_type": "code",
   "execution_count": 250,
   "metadata": {},
   "outputs": [],
   "source": [
    "df=df[df['Unit_Of_Pay']=='Year']"
   ]
  },
  {
   "cell_type": "code",
   "execution_count": 251,
   "metadata": {},
   "outputs": [],
   "source": [
    "df = df.sample(frac=0.4, random_state=42)\n"
   ]
  },
  {
   "cell_type": "code",
   "execution_count": 252,
   "metadata": {},
   "outputs": [
    {
     "data": {
      "text/plain": [
       "<AxesSubplot:title={'center':'CASE STATUS vs NUMBER OF PETITIONS'}, xlabel='CASE STATUS', ylabel='NUMBER OF PETITIONS'>"
      ]
     },
     "execution_count": 252,
     "metadata": {},
     "output_type": "execute_result"
    },
    {
     "data": {
      "image/png": "[encoded data removed]",
      "text/plain": [
       "<Figure size 432x288 with 1 Axes>"
      ]
     },
     "metadata": {
      "needs_background": "light"
     },
     "output_type": "display_data"
    }
   ],
   "source": [
    "plot_status_number = df['Case_Status'].value_counts().plot(title = 'CASE STATUS vs NUMBER OF PETITIONS', \\\n",
    "                                                                kind = 'bar', color = 'green')\n",
    "plot_status_number.set_xlabel(\"CASE STATUS\")\n",
    "plot_status_number.set_ylabel(\"NUMBER OF PETITIONS\")\n",
    "for p in plot_status_number.patches:\n",
    "    plot_status_number.annotate(str(p.get_height()), (p.get_x() * 1.0050, p.get_height() * 1.005))\n",
    "plot_status_number"
   ]
  },
  {
   "cell_type": "code",
   "execution_count": 253,
   "metadata": {},
   "outputs": [
    {
     "data": {
      "text/html": [
       "<div>\n",
       "<style scoped>\n",
       "    .dataframe tbody tr th:only-of-type {\n",
       "        vertical-align: middle;\n",
       "    }\n",
       "\n",
       "    .dataframe tbody tr th {\n",
       "        vertical-align: top;\n",
       "    }\n",
       "\n",
       "    .dataframe thead th {\n",
       "        text-align: right;\n",
       "    }\n",
       "</style>\n",
       "<table border=\"1\" class=\"dataframe\">\n",
       "  <thead>\n",
       "    <tr style=\"text-align: right;\">\n",
       "      <th></th>\n",
       "      <th>Visa_Class</th>\n",
       "      <th>Employer_Name</th>\n",
       "      <th>SOC_Title</th>\n",
       "      <th>Job_Title</th>\n",
       "      <th>Full_Time_Position</th>\n",
       "      <th>Worksite</th>\n",
       "      <th>Prevailing_Wage</th>\n",
       "      <th>Unit_Of_Pay</th>\n",
       "      <th>Employer_Location</th>\n",
       "      <th>Employer_Country</th>\n",
       "      <th>Case_Status</th>\n",
       "      <th>Quarter</th>\n",
       "      <th>State</th>\n",
       "      <th>Transformed_SOC_Title</th>\n",
       "    </tr>\n",
       "  </thead>\n",
       "  <tbody>\n",
       "    <tr>\n",
       "      <th>444791</th>\n",
       "      <td>H-1B</td>\n",
       "      <td>ONDEMAND AGILITY SOLUTIONS INC.</td>\n",
       "      <td>['Software', 'Developers']</td>\n",
       "      <td>SOFTWARE DEVELOPER</td>\n",
       "      <td>Y</td>\n",
       "      <td>Ashburn, Virginia</td>\n",
       "      <td>98550.00</td>\n",
       "      <td>Year</td>\n",
       "      <td>King Of Prussia, Pennsylvania</td>\n",
       "      <td>United States Of America</td>\n",
       "      <td>Certified</td>\n",
       "      <td>Q3</td>\n",
       "      <td>Virginia</td>\n",
       "      <td>Developers, Software</td>\n",
       "    </tr>\n",
       "    <tr>\n",
       "      <th>437458</th>\n",
       "      <td>H-1B</td>\n",
       "      <td>Query.AI, Inc</td>\n",
       "      <td>['Software', 'Developers']</td>\n",
       "      <td>Software Development Engineer in Test</td>\n",
       "      <td>Y</td>\n",
       "      <td>Brookings, South Dakota</td>\n",
       "      <td>66830.00</td>\n",
       "      <td>Year</td>\n",
       "      <td>Brookings , South Dakota</td>\n",
       "      <td>United States Of America</td>\n",
       "      <td>Certified</td>\n",
       "      <td>Q3</td>\n",
       "      <td>South Dakota</td>\n",
       "      <td>Developers, Software</td>\n",
       "    </tr>\n",
       "    <tr>\n",
       "      <th>578524</th>\n",
       "      <td>H-1B</td>\n",
       "      <td>BITFLOW INNOVATIVE GROUP INC</td>\n",
       "      <td>['Software', 'Developers']</td>\n",
       "      <td>Software Developer</td>\n",
       "      <td>Y</td>\n",
       "      <td>Chantilly, Virginia</td>\n",
       "      <td>110240.00</td>\n",
       "      <td>Year</td>\n",
       "      <td>Chantilly, Virginia</td>\n",
       "      <td>United States Of America</td>\n",
       "      <td>Certified</td>\n",
       "      <td>Q4</td>\n",
       "      <td>Virginia</td>\n",
       "      <td>Developers, Software</td>\n",
       "    </tr>\n",
       "    <tr>\n",
       "      <th>44857</th>\n",
       "      <td>H-1B</td>\n",
       "      <td>FORD MOTOR COMPANY</td>\n",
       "      <td>['Software', 'Developers', 'Systems', 'Software']</td>\n",
       "      <td>Embedded Software Engineer – Audio Technologies</td>\n",
       "      <td>Y</td>\n",
       "      <td>Farmington Hills, Michigan</td>\n",
       "      <td>63877.00</td>\n",
       "      <td>Year</td>\n",
       "      <td>Dearborn, Michigan</td>\n",
       "      <td>United States Of America</td>\n",
       "      <td>Certified</td>\n",
       "      <td>Q1</td>\n",
       "      <td>Michigan</td>\n",
       "      <td>Developers, Software, Systems</td>\n",
       "    </tr>\n",
       "    <tr>\n",
       "      <th>550277</th>\n",
       "      <td>H-1B</td>\n",
       "      <td>Meta Platforms, Inc.</td>\n",
       "      <td>['Information', 'Technology', 'Project', 'Mana...</td>\n",
       "      <td>Technical Program Manager</td>\n",
       "      <td>Y</td>\n",
       "      <td>Seattle, Washington</td>\n",
       "      <td>125611.00</td>\n",
       "      <td>Year</td>\n",
       "      <td>Menlo Park, California</td>\n",
       "      <td>United States Of America</td>\n",
       "      <td>Certified</td>\n",
       "      <td>Q4</td>\n",
       "      <td>Washington</td>\n",
       "      <td>Information, Project, Technology</td>\n",
       "    </tr>\n",
       "    <tr>\n",
       "      <th>...</th>\n",
       "      <td>...</td>\n",
       "      <td>...</td>\n",
       "      <td>...</td>\n",
       "      <td>...</td>\n",
       "      <td>...</td>\n",
       "      <td>...</td>\n",
       "      <td>...</td>\n",
       "      <td>...</td>\n",
       "      <td>...</td>\n",
       "      <td>...</td>\n",
       "      <td>...</td>\n",
       "      <td>...</td>\n",
       "      <td>...</td>\n",
       "      <td>...</td>\n",
       "    </tr>\n",
       "    <tr>\n",
       "      <th>13755</th>\n",
       "      <td>H-1B</td>\n",
       "      <td>Grants / Cibola County Schools</td>\n",
       "      <td>['Elementary', 'School', 'Teachers', 'Except',...</td>\n",
       "      <td>Public School Teacher</td>\n",
       "      <td>Y</td>\n",
       "      <td>Grants, New Mexico</td>\n",
       "      <td>41000.00</td>\n",
       "      <td>Year</td>\n",
       "      <td>Grants, New Mexico</td>\n",
       "      <td>United States Of America</td>\n",
       "      <td>Certified</td>\n",
       "      <td>Q1</td>\n",
       "      <td>New Mexico</td>\n",
       "      <td>Education</td>\n",
       "    </tr>\n",
       "    <tr>\n",
       "      <th>84585</th>\n",
       "      <td>H-1B</td>\n",
       "      <td>Amazon.com Services LLC</td>\n",
       "      <td>['Operations', 'Research', 'Analysts']</td>\n",
       "      <td>Training Specialist III</td>\n",
       "      <td>Y</td>\n",
       "      <td>Seattle, Washington</td>\n",
       "      <td>72155.00</td>\n",
       "      <td>Year</td>\n",
       "      <td>Seattle, Washington</td>\n",
       "      <td>United States Of America</td>\n",
       "      <td>Certified</td>\n",
       "      <td>Q1</td>\n",
       "      <td>Washington</td>\n",
       "      <td>Analysts</td>\n",
       "    </tr>\n",
       "    <tr>\n",
       "      <th>493718</th>\n",
       "      <td>H-1B</td>\n",
       "      <td>University of Nebraska at Omaha</td>\n",
       "      <td>['Computer', 'Systems', 'Analysts']</td>\n",
       "      <td>Business Analyst II</td>\n",
       "      <td>Y</td>\n",
       "      <td>Omaha, Nebraska</td>\n",
       "      <td>70366.00</td>\n",
       "      <td>Year</td>\n",
       "      <td>Omaha, Nebraska</td>\n",
       "      <td>United States Of America</td>\n",
       "      <td>Certified</td>\n",
       "      <td>Q3</td>\n",
       "      <td>Nebraska</td>\n",
       "      <td>Analysts, Computer, Systems</td>\n",
       "    </tr>\n",
       "    <tr>\n",
       "      <th>228500</th>\n",
       "      <td>H-1B</td>\n",
       "      <td>Salesforce.com, Inc.</td>\n",
       "      <td>['Information', 'Security', 'Analysts']</td>\n",
       "      <td>Senior Security Engineering</td>\n",
       "      <td>Y</td>\n",
       "      <td>Bellevue, Washington</td>\n",
       "      <td>114899.00</td>\n",
       "      <td>Year</td>\n",
       "      <td>San Francisco, California</td>\n",
       "      <td>United States Of America</td>\n",
       "      <td>Certified</td>\n",
       "      <td>Q2</td>\n",
       "      <td>Washington</td>\n",
       "      <td>Analysts</td>\n",
       "    </tr>\n",
       "    <tr>\n",
       "      <th>337811</th>\n",
       "      <td>H-1B</td>\n",
       "      <td>Denver Public Schools District 1</td>\n",
       "      <td>['Elementary', 'School', 'Teachers', 'Except',...</td>\n",
       "      <td>ELA-S ECE Teacher</td>\n",
       "      <td>Y</td>\n",
       "      <td>Denver, Colorado</td>\n",
       "      <td>69974.69</td>\n",
       "      <td>Year</td>\n",
       "      <td>Denver, Colorado</td>\n",
       "      <td>United States Of America</td>\n",
       "      <td>Certified</td>\n",
       "      <td>Q3</td>\n",
       "      <td>Colorado</td>\n",
       "      <td>Education</td>\n",
       "    </tr>\n",
       "  </tbody>\n",
       "</table>\n",
       "<p>230970 rows × 14 columns</p>\n",
       "</div>"
      ],
      "text/plain": [
       "       Visa_Class                     Employer_Name  \\\n",
       "444791       H-1B   ONDEMAND AGILITY SOLUTIONS INC.   \n",
       "437458       H-1B                     Query.AI, Inc   \n",
       "578524       H-1B      BITFLOW INNOVATIVE GROUP INC   \n",
       "44857        H-1B                FORD MOTOR COMPANY   \n",
       "550277       H-1B              Meta Platforms, Inc.   \n",
       "...           ...                               ...   \n",
       "13755        H-1B    Grants / Cibola County Schools   \n",
       "84585        H-1B           Amazon.com Services LLC   \n",
       "493718       H-1B   University of Nebraska at Omaha   \n",
       "228500       H-1B             Salesforce.com, Inc.    \n",
       "337811       H-1B  Denver Public Schools District 1   \n",
       "\n",
       "                                                SOC_Title  \\\n",
       "444791                         ['Software', 'Developers']   \n",
       "437458                         ['Software', 'Developers']   \n",
       "578524                         ['Software', 'Developers']   \n",
       "44857   ['Software', 'Developers', 'Systems', 'Software']   \n",
       "550277  ['Information', 'Technology', 'Project', 'Mana...   \n",
       "...                                                   ...   \n",
       "13755   ['Elementary', 'School', 'Teachers', 'Except',...   \n",
       "84585              ['Operations', 'Research', 'Analysts']   \n",
       "493718                ['Computer', 'Systems', 'Analysts']   \n",
       "228500            ['Information', 'Security', 'Analysts']   \n",
       "337811  ['Elementary', 'School', 'Teachers', 'Except',...   \n",
       "\n",
       "                                               Job_Title Full_Time_Position  \\\n",
       "444791                                SOFTWARE DEVELOPER                  Y   \n",
       "437458            Software Development Engineer in Test                   Y   \n",
       "578524                                Software Developer                  Y   \n",
       "44857   Embedded Software Engineer – Audio Technologies                   Y   \n",
       "550277                         Technical Program Manager                  Y   \n",
       "...                                                  ...                ...   \n",
       "13755                              Public School Teacher                  Y   \n",
       "84585                            Training Specialist III                  Y   \n",
       "493718                               Business Analyst II                  Y   \n",
       "228500                       Senior Security Engineering                  Y   \n",
       "337811                                ELA-S ECE Teacher                   Y   \n",
       "\n",
       "                          Worksite  Prevailing_Wage Unit_Of_Pay  \\\n",
       "444791           Ashburn, Virginia         98550.00        Year   \n",
       "437458     Brookings, South Dakota         66830.00        Year   \n",
       "578524         Chantilly, Virginia        110240.00        Year   \n",
       "44857   Farmington Hills, Michigan         63877.00        Year   \n",
       "550277         Seattle, Washington        125611.00        Year   \n",
       "...                            ...              ...         ...   \n",
       "13755           Grants, New Mexico         41000.00        Year   \n",
       "84585          Seattle, Washington         72155.00        Year   \n",
       "493718             Omaha, Nebraska         70366.00        Year   \n",
       "228500        Bellevue, Washington        114899.00        Year   \n",
       "337811            Denver, Colorado         69974.69        Year   \n",
       "\n",
       "                    Employer_Location          Employer_Country Case_Status  \\\n",
       "444791  King Of Prussia, Pennsylvania  United States Of America   Certified   \n",
       "437458       Brookings , South Dakota  United States Of America   Certified   \n",
       "578524            Chantilly, Virginia  United States Of America   Certified   \n",
       "44857              Dearborn, Michigan  United States Of America   Certified   \n",
       "550277         Menlo Park, California  United States Of America   Certified   \n",
       "...                               ...                       ...         ...   \n",
       "13755              Grants, New Mexico  United States Of America   Certified   \n",
       "84585             Seattle, Washington  United States Of America   Certified   \n",
       "493718                Omaha, Nebraska  United States Of America   Certified   \n",
       "228500      San Francisco, California  United States Of America   Certified   \n",
       "337811               Denver, Colorado  United States Of America   Certified   \n",
       "\n",
       "       Quarter         State             Transformed_SOC_Title  \n",
       "444791      Q3      Virginia              Developers, Software  \n",
       "437458      Q3  South Dakota              Developers, Software  \n",
       "578524      Q4      Virginia              Developers, Software  \n",
       "44857       Q1      Michigan     Developers, Software, Systems  \n",
       "550277      Q4    Washington  Information, Project, Technology  \n",
       "...        ...           ...                               ...  \n",
       "13755       Q1    New Mexico                         Education  \n",
       "84585       Q1    Washington                          Analysts  \n",
       "493718      Q3      Nebraska       Analysts, Computer, Systems  \n",
       "228500      Q2    Washington                          Analysts  \n",
       "337811      Q3      Colorado                         Education  \n",
       "\n",
       "[230970 rows x 14 columns]"
      ]
     },
     "execution_count": 253,
     "metadata": {},
     "output_type": "execute_result"
    }
   ],
   "source": [
    "df"
   ]
  },
  {
   "cell_type": "code",
   "execution_count": 254,
   "metadata": {},
   "outputs": [],
   "source": [
    "import pandas as pd\n",
    "from sklearn.model_selection import train_test_split\n",
    "from sklearn.preprocessing import OneHotEncoder\n",
    "from sklearn.ensemble import RandomForestClassifier\n",
    "from sklearn.metrics import accuracy_score, classification_report\n",
    "from sklearn.pipeline import make_pipeline\n",
    "from sklearn.compose import make_column_transformer\n"
   ]
  },
  {
   "cell_type": "code",
   "execution_count": 255,
   "metadata": {},
   "outputs": [],
   "source": [
    "categorical_cols = df.select_dtypes(include=['object']).columns\n",
    "preprocessor = make_column_transformer(\n",
    "    (OneHotEncoder(), categorical_cols),\n",
    "    remainder='passthrough'\n",
    ")"
   ]
  },
  {
   "cell_type": "code",
   "execution_count": 256,
   "metadata": {},
   "outputs": [],
   "source": [
    "df['Case_Status'] = df['Case_Status'].apply(lambda x: 1 if x == 'Certified' else 0)"
   ]
  },
  {
   "cell_type": "code",
   "execution_count": 257,
   "metadata": {},
   "outputs": [],
   "source": [
    "df['City']=df['Worksite'].apply(lambda x: x.split(', ')[0])"
   ]
  },
  {
   "cell_type": "code",
   "execution_count": 258,
   "metadata": {},
   "outputs": [],
   "source": [
    "from sklearn.model_selection import train_test_split\n",
    "\n",
    "# Assuming 'df' is your large DataFrame and 'Case_Status' is the target variable\n",
    "X = df.drop('Case_Status', axis=1)\n",
    "y = df['Case_Status']\n",
    "\n",
    "# Split the dataset into 'Certified' and 'Not Certified'\n",
    "X_certified = X[y == 1]\n",
    "y_certified = y[y == 1]\n",
    "X_not_certified = X[y == 0]\n",
    "y_not_certified = y[y == 0]\n",
    "\n",
    "# Sample a higher proportion of 'Not Certified' cases\n",
    "X_certified_sample, _, y_certified_sample, _ = train_test_split(X_certified, y_certified, test_size=0.9, random_state=42)\n",
    "X_not_certified_sample, _, y_not_certified_sample, _ = train_test_split(X_not_certified, y_not_certified, test_size=0.02, random_state=42)\n",
    "\n",
    "# Combine the samples\n",
    "X_sample = pd.concat([X_certified_sample, X_not_certified])\n",
    "y_sample = pd.concat([y_certified_sample, y_not_certified])\n"
   ]
  },
  {
   "cell_type": "code",
   "execution_count": 259,
   "metadata": {},
   "outputs": [],
   "source": [
    "X=X_sample\n",
    "y=y_sample"
   ]
  },
  {
   "cell_type": "code",
   "execution_count": 260,
   "metadata": {},
   "outputs": [
    {
     "data": {
      "text/plain": [
       "0.5465938797478087"
      ]
     },
     "execution_count": 260,
     "metadata": {},
     "output_type": "execute_result"
    }
   ],
   "source": [
    "sum(y)/len(y)"
   ]
  },
  {
   "cell_type": "code",
   "execution_count": 261,
   "metadata": {},
   "outputs": [],
   "source": [
    "from sklearn.linear_model import LogisticRegression\n",
    "from sklearn.tree import DecisionTreeClassifier\n",
    "from sklearn.ensemble import RandomForestClassifier\n",
    "from sklearn.svm import SVC\n",
    "from sklearn.neighbors import KNeighborsClassifier\n",
    "from sklearn.metrics import make_scorer, f1_score\n",
    "\n",
    "# Define a dictionary to hold the models\n",
    "models = {\n",
    "    \"Logistic Regression\": LogisticRegression(),\n",
    "    \"Decision Tree\": DecisionTreeClassifier(),\n",
    "    \"Random Forest\": RandomForestClassifier(),\n",
    "    \"SVM\": SVC(),\n",
    "    \"KNN\": KNeighborsClassifier()\n",
    "}\n",
    "\n",
    "\n",
    "X_train, X_test, y_train, y_test = train_test_split(X, y, test_size=0.2, random_state=42)\n",
    "\n",
    "\n"
   ]
  },
  {
   "cell_type": "code",
   "execution_count": 262,
   "metadata": {},
   "outputs": [],
   "source": [
    "X_train=X_train[['Visa_Class', 'Employer_Name', 'SOC_Title', 'Job_Title',\n",
    "       'Full_Time_Position', 'Worksite', 'Prevailing_Wage', 'Unit_Of_Pay',\n",
    "        'Employer_Country', 'Quarter',\n",
    "       'State']]\n",
    "X_test = X_test[['Visa_Class', 'Employer_Name', 'SOC_Title', 'Job_Title',\n",
    "       'Full_Time_Position', 'Worksite', 'Prevailing_Wage', 'Unit_Of_Pay',\n",
    "        'Employer_Country', 'Quarter',\n",
    "       'State']]"
   ]
  },
  {
   "cell_type": "code",
   "execution_count": 263,
   "metadata": {},
   "outputs": [],
   "source": [
    "categorical_cols=['Visa_Class', 'Employer_Name', 'SOC_Title', 'Job_Title',\n",
    "       'Full_Time_Position', 'Worksite',  'Unit_Of_Pay',\n",
    "        'Employer_Country', 'Quarter',\n",
    "       'State']\n",
    "numerical_cols=['Prevailing_Wage']"
   ]
  },
  {
   "cell_type": "code",
   "execution_count": 264,
   "metadata": {},
   "outputs": [
    {
     "name": "stdout",
     "output_type": "stream",
     "text": [
      "Model: Logistic Regression\n",
      "F1 Score: 0.7092292424743633\n",
      "Accuracy: 0.5494618144541261\n",
      "How many falses: 1.0\n",
      "\n",
      "Model: Decision Tree\n",
      "F1 Score: 0.6945625419556948\n",
      "Accuracy: 0.650179395181958\n",
      "How many falses: 0.5958482829318298\n",
      "\n",
      "Model: Random Forest\n",
      "F1 Score: 0.7414552317047598\n",
      "Accuracy: 0.6840082009226038\n",
      "How many falses: 0.6727319323423885\n",
      "\n",
      "Model: SVM\n",
      "F1 Score: 0.7031881454872027\n",
      "Accuracy: 0.5764992311635059\n",
      "How many falses: 0.8773705791901589\n",
      "\n",
      "Model: KNN\n",
      "F1 Score: 0.6918502202643172\n",
      "Accuracy: 0.641465914915428\n",
      "How many falses: 0.6140440799589953\n",
      "\n"
     ]
    }
   ],
   "source": [
    "# Training and evaluating each model\n",
    "for name, model in models.items():\n",
    "    pipeline = make_pipeline(\n",
    "        make_column_transformer(\n",
    "            (OneHotEncoder(handle_unknown='ignore'), categorical_cols),\n",
    "            remainder='passthrough'\n",
    "        ),\n",
    "        model\n",
    "    )\n",
    "    pipeline.fit(X_train, y_train)\n",
    "    y_pred = pipeline.predict(X_test)\n",
    "    f1 = f1_score(y_test, y_pred)\n",
    "    accuracy = accuracy_score(y_test, y_pred)\n",
    "    print(f\"Model: {name}\")\n",
    "    print(f\"F1 Score: {f1}\")\n",
    "    print(f\"Accuracy: {accuracy}\")\n",
    "    print(f'How many falses: {sum(y_pred)/len(y_pred)}\\n')"
   ]
  },
  {
   "cell_type": "code",
   "execution_count": 265,
   "metadata": {},
   "outputs": [],
   "source": [
    "import pandas as pd\n",
    "import numpy as np\n",
    "import matplotlib.pyplot as plt\n",
    "from sklearn.model_selection import train_test_split\n",
    "from sklearn.ensemble import RandomForestClassifier\n",
    "from sklearn.compose import ColumnTransformer\n",
    "from sklearn.preprocessing import OneHotEncoder\n",
    "from sklearn.pipeline import make_pipeline\n",
    "\n",
    "# Define the column transformer for preprocessing\n",
    "preprocessor = ColumnTransformer(\n",
    "    transformers=[\n",
    "        ('cat', OneHotEncoder(handle_unknown='ignore'), categorical_cols)\n",
    "    ],\n",
    "    remainder='passthrough'\n",
    ")\n",
    "\n",
    "# Define and train the RandomForest model\n",
    "rf_model = RandomForestClassifier(random_state=42)\n",
    "pipeline = make_pipeline(preprocessor, rf_model)\n",
    "pipeline.fit(X_train, y_train)\n",
    "\n",
    "# Get feature importances\n",
    "feature_importances = pipeline.named_steps['randomforestclassifier'].feature_importances_\n",
    "\n",
    "# Extract feature names after one-hot encoding\n",
    "ohe_feature_names = pipeline.named_steps['columntransformer'].named_transformers_['cat'].get_feature_names_out(categorical_cols)\n",
    "\n",
    "# Initialize a dictionary to sum the importances of the original features\n",
    "original_feature_importances = {feature: 0 for feature in categorical_cols + list(numerical_cols)}\n"
   ]
  },
  {
   "cell_type": "code",
   "execution_count": 266,
   "metadata": {},
   "outputs": [
    {
     "data": {
      "text/plain": [
       "{'Visa_Class': 0,\n",
       " 'Employer_Name': 0,\n",
       " 'SOC_Title': 0,\n",
       " 'Job_Title': 0,\n",
       " 'Full_Time_Position': 0,\n",
       " 'Worksite': 0,\n",
       " 'Unit_Of_Pay': 0,\n",
       " 'Employer_Country': 0,\n",
       " 'Quarter': 0,\n",
       " 'State': 0,\n",
       " 'Prevailing_Wage': 0}"
      ]
     },
     "execution_count": 266,
     "metadata": {},
     "output_type": "execute_result"
    }
   ],
   "source": [
    "original_feature_importances"
   ]
  },
  {
   "cell_type": "code",
   "execution_count": 267,
   "metadata": {},
   "outputs": [],
   "source": [
    "\n",
    "for ohe_feature, importance in zip(ohe_feature_names, feature_importances[:len(ohe_feature_names)]):\n",
    "    original_feature = original_feature = '_'.join(ohe_feature.split('_')[:-1])\n",
    "    original_feature_importances[original_feature] += importance\n"
   ]
  },
  {
   "cell_type": "code",
   "execution_count": 268,
   "metadata": {},
   "outputs": [
    {
     "data": {
      "image/png": "[encoded data removed]",
      "text/plain": [
       "<Figure size 576x432 with 1 Axes>"
      ]
     },
     "metadata": {
      "needs_background": "light"
     },
     "output_type": "display_data"
    }
   ],
   "source": [
    "\n",
    "# Adding importances of numerical features\n",
    "for feature, importance in zip(numerical_cols, feature_importances[len(ohe_feature_names):]):\n",
    "    original_feature_importances[feature] += importance\n",
    "\n",
    "# Sorting features by importance\n",
    "sorted_features = sorted(original_feature_importances.items(), key=lambda x: x[1], reverse=True)\n",
    "\n",
    "# Selecting top 10 features\n",
    "top_features = sorted_features[:5]\n",
    "top_feature_names, top_feature_scores = zip(*top_features)\n",
    "\n",
    "# Plotting feature importances\n",
    "plt.figure(figsize=(8, 6))\n",
    "plt.title(\"Feature Importances\")\n",
    "plt.bar(range(len(top_feature_scores)), top_feature_scores, align='center')\n",
    "plt.xticks(range(len(top_feature_scores)), top_feature_names)\n",
    "plt.show()"
   ]
  },
  {
   "cell_type": "code",
   "execution_count": 269,
   "metadata": {},
   "outputs": [
    {
     "data": {
      "image/png": "[encoded data removed]",
      "text/plain": [
       "<Figure size 720x288 with 1 Axes>"
      ]
     },
     "metadata": {
      "needs_background": "light"
     },
     "output_type": "display_data"
    }
   ],
   "source": [
    "plt.figure(figsize=(10, 4))\n",
    "plt.title(\"Top 5 Feature Importances\")\n",
    "plt.barh(range(len(top_feature_scores)), top_feature_scores, align='center')\n",
    "plt.yticks(range(len(top_feature_scores)), top_feature_names)\n",
    "plt.xlabel(\"Feature Importance\")\n",
    "plt.gca().invert_yaxis()  # Invert the y-axis to display the most important feature at the top\n",
    "plt.show()"
   ]
  },
  {
   "cell_type": "code",
   "execution_count": null,
   "metadata": {},
   "outputs": [],
   "source": []
  },
  {
   "cell_type": "code",
   "execution_count": null,
   "metadata": {},
   "outputs": [],
   "source": []
  }
 ],
 "metadata": {
  "kernelspec": {
   "display_name": "base",
   "language": "python",
   "name": "python3"
  },
  "language_info": {
   "codemirror_mode": {
    "name": "ipython",
    "version": 3
   },
   "file_extension": ".py",
   "mimetype": "text/x-python",
   "name": "python",
   "nbconvert_exporter": "python",
   "pygments_lexer": "ipython3",
   "version": "3.9.7"
  }
 },
 "nbformat": 4,
 "nbformat_minor": 2
}
