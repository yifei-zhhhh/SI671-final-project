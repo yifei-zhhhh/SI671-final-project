{
  "nbformat": 4,
  "nbformat_minor": 0,
  "metadata": {
    "colab": {
      "provenance": []
    },
    "kernelspec": {
      "name": "python3",
      "display_name": "Python 3"
    },
    "language_info": {
      "name": "python"
    }
  },
  "cells": [
    {
      "cell_type": "code",
      "source": [
        "import pandas as pd\n",
        "df=pd.read_csv('Processed_data.csv')\n",
        "city=df['Worksite'].apply(lambda x: x.split(', ')[0])\n",
        "df['city']=city\n",
        "latlon=pd.read_csv('place_data.csv')\n",
        "latlon['city']=latlon['place'].apply(lambda x: x.split(', ')[0])\n",
        "# Merging the dataframes\n",
        "merged_df = pd.merge(df, latlon, left_on='city', right_on='city', how='inner')\n",
        "\n",
        "final_df=merged_df.drop(['Unnamed: 0', 'place'], axis=1)"
      ],
      "metadata": {
        "id": "JixQEX7MkUBd"
      },
      "execution_count": null,
      "outputs": []
    },
    {
      "cell_type": "code",
      "source": [
        "final_df=final_df.dropna()\n",
        "\n"
      ],
      "metadata": {
        "id": "9WVI-Hjskh32"
      },
      "execution_count": null,
      "outputs": []
    },
    {
      "cell_type": "code",
      "source": [
        "def plot_city_density(df, title):\n",
        "    from mpl_toolkits.basemap import Basemap\n",
        "    from scipy.stats import gaussian_kde\n",
        "    import numpy as np\n",
        "    import matplotlib.pyplot as plt\n",
        "\n",
        "    fig, ax = plt.subplots(figsize=(12, 6))\n",
        "\n",
        "    map = Basemap(llcrnrlon=-119, llcrnrlat=22, urcrnrlon=-64, urcrnrlat=49,\n",
        "                  projection='lcc', lat_1=32, lat_2=45, lon_0=-95)\n",
        "    map.readshapefile('./st99_d00', name='states', drawbounds=True)\n",
        "\n",
        "    city_coords = df.groupby('city')[['latitude', 'longitude']].mean()\n",
        "\n",
        "    x = np.repeat(city_coords['longitude'].values, df['city'].value_counts().values)\n",
        "    y = np.repeat(city_coords['latitude'].values, df['city'].value_counts().values)\n",
        "\n",
        "\n",
        "    xy = np.vstack([x, y])\n",
        "    z = gaussian_kde(xy)(xy)\n",
        "\n",
        "    idx = z.argsort()\n",
        "    x, y, z = x[idx], y[idx], z[idx]\n",
        "\n",
        "    xmap, ymap = map(x, y)\n",
        "    heatmap = ax.scatter(xmap, ymap, c=z, s=20, cmap='viridis')\n",
        "    cb = plt.colorbar(heatmap)\n",
        "    cb.set_label('Density')\n",
        "\n",
        "    plt.title(title)\n",
        "    plt.show()\n",
        "\n",
        "\n"
      ],
      "metadata": {
        "id": "VFyyp7POkjjI"
      },
      "execution_count": null,
      "outputs": []
    },
    {
      "cell_type": "code",
      "source": [
        "plot_city_density(final_df, 'H1B Petition Heatmap')"
      ],
      "metadata": {
        "id": "pSdDkVjnlS6h"
      },
      "execution_count": null,
      "outputs": []
    },
    {
      "cell_type": "code",
      "source": [],
      "metadata": {
        "id": "-Db94tA8weVi"
      },
      "execution_count": null,
      "outputs": []
    }
  ]
}